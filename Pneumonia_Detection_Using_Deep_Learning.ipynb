{
  "cells": [
    {
      "cell_type": "markdown",
      "metadata": {
        "id": "view-in-github",
        "colab_type": "text"
      },
      "source": [
        "<a href=\"https://colab.research.google.com/github/Shristi2919/main-Pneumonia_Detection_Using_Deep_Learning.ipynb/blob/main/Pneumonia_Detection_Using_Deep_Learning.ipynb\" target=\"_parent\"><img src=\"https://colab.research.google.com/assets/colab-badge.svg\" alt=\"Open In Colab\"/></a>"
      ]
    },
    {
      "cell_type": "code",
      "execution_count": null,
      "id": "15652687",
      "metadata": {
        "colab": {
          "base_uri": "https://localhost:8080/",
          "height": 38
        },
        "id": "15652687",
        "outputId": "9754a239-1f32-421a-fad0-4140e9d35c27"
      },
      "outputs": [
        {
          "output_type": "display_data",
          "data": {
            "text/plain": [
              "<IPython.core.display.HTML object>"
            ],
            "text/html": [
              "\n",
              "     <input type=\"file\" id=\"files-e6018ce5-05ce-4a65-a6e5-4bf84608a5d4\" name=\"files[]\" multiple disabled\n",
              "        style=\"border:none\" />\n",
              "     <output id=\"result-e6018ce5-05ce-4a65-a6e5-4bf84608a5d4\">\n",
              "      Upload widget is only available when the cell has been executed in the\n",
              "      current browser session. Please rerun this cell to enable.\n",
              "      </output>\n",
              "      <script>// Copyright 2017 Google LLC\n",
              "//\n",
              "// Licensed under the Apache License, Version 2.0 (the \"License\");\n",
              "// you may not use this file except in compliance with the License.\n",
              "// You may obtain a copy of the License at\n",
              "//\n",
              "//      http://www.apache.org/licenses/LICENSE-2.0\n",
              "//\n",
              "// Unless required by applicable law or agreed to in writing, software\n",
              "// distributed under the License is distributed on an \"AS IS\" BASIS,\n",
              "// WITHOUT WARRANTIES OR CONDITIONS OF ANY KIND, either express or implied.\n",
              "// See the License for the specific language governing permissions and\n",
              "// limitations under the License.\n",
              "\n",
              "/**\n",
              " * @fileoverview Helpers for google.colab Python module.\n",
              " */\n",
              "(function(scope) {\n",
              "function span(text, styleAttributes = {}) {\n",
              "  const element = document.createElement('span');\n",
              "  element.textContent = text;\n",
              "  for (const key of Object.keys(styleAttributes)) {\n",
              "    element.style[key] = styleAttributes[key];\n",
              "  }\n",
              "  return element;\n",
              "}\n",
              "\n",
              "// Max number of bytes which will be uploaded at a time.\n",
              "const MAX_PAYLOAD_SIZE = 100 * 1024;\n",
              "\n",
              "function _uploadFiles(inputId, outputId) {\n",
              "  const steps = uploadFilesStep(inputId, outputId);\n",
              "  const outputElement = document.getElementById(outputId);\n",
              "  // Cache steps on the outputElement to make it available for the next call\n",
              "  // to uploadFilesContinue from Python.\n",
              "  outputElement.steps = steps;\n",
              "\n",
              "  return _uploadFilesContinue(outputId);\n",
              "}\n",
              "\n",
              "// This is roughly an async generator (not supported in the browser yet),\n",
              "// where there are multiple asynchronous steps and the Python side is going\n",
              "// to poll for completion of each step.\n",
              "// This uses a Promise to block the python side on completion of each step,\n",
              "// then passes the result of the previous step as the input to the next step.\n",
              "function _uploadFilesContinue(outputId) {\n",
              "  const outputElement = document.getElementById(outputId);\n",
              "  const steps = outputElement.steps;\n",
              "\n",
              "  const next = steps.next(outputElement.lastPromiseValue);\n",
              "  return Promise.resolve(next.value.promise).then((value) => {\n",
              "    // Cache the last promise value to make it available to the next\n",
              "    // step of the generator.\n",
              "    outputElement.lastPromiseValue = value;\n",
              "    return next.value.response;\n",
              "  });\n",
              "}\n",
              "\n",
              "/**\n",
              " * Generator function which is called between each async step of the upload\n",
              " * process.\n",
              " * @param {string} inputId Element ID of the input file picker element.\n",
              " * @param {string} outputId Element ID of the output display.\n",
              " * @return {!Iterable<!Object>} Iterable of next steps.\n",
              " */\n",
              "function* uploadFilesStep(inputId, outputId) {\n",
              "  const inputElement = document.getElementById(inputId);\n",
              "  inputElement.disabled = false;\n",
              "\n",
              "  const outputElement = document.getElementById(outputId);\n",
              "  outputElement.innerHTML = '';\n",
              "\n",
              "  const pickedPromise = new Promise((resolve) => {\n",
              "    inputElement.addEventListener('change', (e) => {\n",
              "      resolve(e.target.files);\n",
              "    });\n",
              "  });\n",
              "\n",
              "  const cancel = document.createElement('button');\n",
              "  inputElement.parentElement.appendChild(cancel);\n",
              "  cancel.textContent = 'Cancel upload';\n",
              "  const cancelPromise = new Promise((resolve) => {\n",
              "    cancel.onclick = () => {\n",
              "      resolve(null);\n",
              "    };\n",
              "  });\n",
              "\n",
              "  // Wait for the user to pick the files.\n",
              "  const files = yield {\n",
              "    promise: Promise.race([pickedPromise, cancelPromise]),\n",
              "    response: {\n",
              "      action: 'starting',\n",
              "    }\n",
              "  };\n",
              "\n",
              "  cancel.remove();\n",
              "\n",
              "  // Disable the input element since further picks are not allowed.\n",
              "  inputElement.disabled = true;\n",
              "\n",
              "  if (!files) {\n",
              "    return {\n",
              "      response: {\n",
              "        action: 'complete',\n",
              "      }\n",
              "    };\n",
              "  }\n",
              "\n",
              "  for (const file of files) {\n",
              "    const li = document.createElement('li');\n",
              "    li.append(span(file.name, {fontWeight: 'bold'}));\n",
              "    li.append(span(\n",
              "        `(${file.type || 'n/a'}) - ${file.size} bytes, ` +\n",
              "        `last modified: ${\n",
              "            file.lastModifiedDate ? file.lastModifiedDate.toLocaleDateString() :\n",
              "                                    'n/a'} - `));\n",
              "    const percent = span('0% done');\n",
              "    li.appendChild(percent);\n",
              "\n",
              "    outputElement.appendChild(li);\n",
              "\n",
              "    const fileDataPromise = new Promise((resolve) => {\n",
              "      const reader = new FileReader();\n",
              "      reader.onload = (e) => {\n",
              "        resolve(e.target.result);\n",
              "      };\n",
              "      reader.readAsArrayBuffer(file);\n",
              "    });\n",
              "    // Wait for the data to be ready.\n",
              "    let fileData = yield {\n",
              "      promise: fileDataPromise,\n",
              "      response: {\n",
              "        action: 'continue',\n",
              "      }\n",
              "    };\n",
              "\n",
              "    // Use a chunked sending to avoid message size limits. See b/62115660.\n",
              "    let position = 0;\n",
              "    do {\n",
              "      const length = Math.min(fileData.byteLength - position, MAX_PAYLOAD_SIZE);\n",
              "      const chunk = new Uint8Array(fileData, position, length);\n",
              "      position += length;\n",
              "\n",
              "      const base64 = btoa(String.fromCharCode.apply(null, chunk));\n",
              "      yield {\n",
              "        response: {\n",
              "          action: 'append',\n",
              "          file: file.name,\n",
              "          data: base64,\n",
              "        },\n",
              "      };\n",
              "\n",
              "      let percentDone = fileData.byteLength === 0 ?\n",
              "          100 :\n",
              "          Math.round((position / fileData.byteLength) * 100);\n",
              "      percent.textContent = `${percentDone}% done`;\n",
              "\n",
              "    } while (position < fileData.byteLength);\n",
              "  }\n",
              "\n",
              "  // All done.\n",
              "  yield {\n",
              "    response: {\n",
              "      action: 'complete',\n",
              "    }\n",
              "  };\n",
              "}\n",
              "\n",
              "scope.google = scope.google || {};\n",
              "scope.google.colab = scope.google.colab || {};\n",
              "scope.google.colab._files = {\n",
              "  _uploadFiles,\n",
              "  _uploadFilesContinue,\n",
              "};\n",
              "})(self);\n",
              "</script> "
            ]
          },
          "metadata": {}
        }
      ],
      "source": [
        "from google.colab import files\n",
        "files.upload()  # Upload the real kaggle.json file again here"
      ]
    },
    {
      "cell_type": "code",
      "execution_count": null,
      "id": "mnYlcrDBfJZn",
      "metadata": {
        "id": "mnYlcrDBfJZn"
      },
      "outputs": [],
      "source": [
        "!mkdir -p ~/.kaggle\n",
        "!mv kaggle.json ~/.kaggle/\n",
        "!chmod 600 ~/.kaggle/kaggle.json"
      ]
    },
    {
      "cell_type": "code",
      "execution_count": null,
      "id": "JvUsFbFjfMCx",
      "metadata": {
        "id": "JvUsFbFjfMCx"
      },
      "outputs": [],
      "source": [
        "import json\n",
        "\n",
        "with open('/root/.kaggle/kaggle.json', 'r') as f:\n",
        "    kaggle_credentials = json.load(f)\n",
        "\n",
        "print(kaggle_credentials)"
      ]
    },
    {
      "cell_type": "code",
      "execution_count": null,
      "id": "FdeyE9G4fOXv",
      "metadata": {
        "id": "FdeyE9G4fOXv"
      },
      "outputs": [],
      "source": [
        "!kaggle datasets download -d paultimothymooney/chest-xray-pneumonia"
      ]
    },
    {
      "cell_type": "code",
      "execution_count": null,
      "id": "5uS7-YWCfQnC",
      "metadata": {
        "collapsed": true,
        "id": "5uS7-YWCfQnC"
      },
      "outputs": [],
      "source": [
        "!unzip chest-xray-pneumonia.zip -d chest_xray_data"
      ]
    },
    {
      "cell_type": "code",
      "execution_count": null,
      "id": "wlkYUoM1lcug",
      "metadata": {
        "id": "wlkYUoM1lcug"
      },
      "outputs": [],
      "source": [
        "import os\n",
        "\n",
        "dataset_path = \"/content/chest_xray_data/chest_xray/chest_xray\"\n",
        "\n",
        "train = os.path.join(dataset_path, \"train\")\n",
        "test= os.path.join(dataset_path, \"test\")\n",
        "\n",
        "print(\"Train classes:\", os.listdir(train_dir))\n",
        "print(\"Test classes:\", os.listdir(test_dir))"
      ]
    },
    {
      "cell_type": "code",
      "execution_count": null,
      "id": "NGRnCkydi1Ta",
      "metadata": {
        "id": "NGRnCkydi1Ta"
      },
      "outputs": [],
      "source": [
        "import os\n",
        "import shutil\n",
        "import random\n",
        "\n",
        "# Define paths\n",
        "val = os.path.join(dataset_path, \"val\")\n",
        "\n",
        "# Create val directory\n",
        "os.makedirs(val_dir, exist_ok=True)\n",
        "\n",
        "# Get class names\n",
        "classes = os.listdir(train_dir)\n",
        "\n",
        "# Create class folders in val directory\n",
        "for class_name in classes:\n",
        "    os.makedirs(os.path.join(val_dir, class_name), exist_ok=True)\n",
        "\n",
        "# Move 10% of images from train to val\n",
        "split_ratio = 0.1  # Adjust this if needed\n",
        "\n",
        "for class_name in classes:\n",
        "    class_train_path = os.path.join(train_dir, class_name)\n",
        "    class_val_path = os.path.join(val_dir, class_name)\n",
        "\n",
        "    images = os.listdir(class_train_path)\n",
        "    random.shuffle(images)\n",
        "\n",
        "    val_count = int(len(images) * split_ratio)\n",
        "    val_images = images[:val_count]\n",
        "\n",
        "    for img in val_images:\n",
        "        shutil.move(os.path.join(class_train_path, img), os.path.join(class_val_path, img))\n",
        "\n",
        "print(\"✅ Validation set created successfully!\")"
      ]
    },
    {
      "cell_type": "code",
      "execution_count": null,
      "id": "23c7ce19",
      "metadata": {
        "id": "23c7ce19"
      },
      "outputs": [],
      "source": [
        "import os, shutil\n",
        "import random\n",
        "import numpy as np\n",
        "import pandas as pd\n",
        "import cv2\n",
        "import skimage\n",
        "import matplotlib.pyplot as plt\n",
        "import skimage.segmentation\n",
        "import seaborn as sns\n",
        "%matplotlib inline\n",
        "plt.style.use('ggplot')"
      ]
    },
    {
      "cell_type": "code",
      "execution_count": null,
      "id": "6aa0285d",
      "metadata": {
        "id": "6aa0285d"
      },
      "outputs": [],
      "source": [
        "labels = ['PNEUMONIA','NORMAL']\n",
        "img_size = 128\n",
        "def get_data(data_dir):\n",
        "    data=[]\n",
        "    for label in labels:\n",
        "#         train/PNEUMONIA\n",
        "        path = os.path.join(data_dir, label)\n",
        "        class_num = labels.index(label)\n",
        "        for img in os.listdir(path):\n",
        "            try:\n",
        "                img_arr = cv2.imread(os.path.join(path, img), cv2.IMREAD_GRAYSCALE)\n",
        "                resized_arr = cv2.resize(img_arr, (img_size, img_size))\n",
        "                data.append([resized_arr, class_num])\n",
        "            except Exception as e:\n",
        "                print(e)\n",
        "    return np.array(data)"
      ]
    },
    {
      "cell_type": "code",
      "execution_count": null,
      "id": "3a9ab86e",
      "metadata": {
        "id": "3a9ab86e"
      },
      "outputs": [],
      "source": [
        "pneumonia = os.listdir(\"/content/chest_xray_data/chest_xray/chest_xray/train/PNEUMONIA\")\n",
        "penomina_dir= \"/content/chest_xray_data/chest_xray/chest_xray/train/PNEUMONIA\""
      ]
    },
    {
      "cell_type": "code",
      "execution_count": null,
      "id": "f6cfacc1",
      "metadata": {
        "colab": {
          "background_save": true
        },
        "id": "f6cfacc1"
      },
      "outputs": [],
      "source": [
        "plt.figure(figsize=(20,10))\n",
        "\n",
        "for i in range(9):\n",
        "    plt.subplot(3,3, i+1)\n",
        "    img = plt.imread(os.path.join(penomina_dir, pneumonia[i]))\n",
        "    plt.imshow(img, cmap='gray')\n",
        "    plt.axis(\"off\")\n",
        "    plt.title(\"Pneumonia X-ray\")\n",
        "plt.tight_layout()"
      ]
    },
    {
      "cell_type": "code",
      "execution_count": null,
      "id": "4f7dc0b1",
      "metadata": {
        "colab": {
          "background_save": true
        },
        "id": "4f7dc0b1"
      },
      "outputs": [],
      "source": [
        "normal = os.listdir(\"chest_xray/train/NORMAL\")\n",
        "normal_dir = \"chest_xray/train/NORMAL\""
      ]
    },
    {
      "cell_type": "code",
      "execution_count": null,
      "id": "b8ba03eb",
      "metadata": {
        "colab": {
          "background_save": true
        },
        "id": "b8ba03eb"
      },
      "outputs": [],
      "source": [
        "plt.figure(figsize=(20,10))\n",
        "\n",
        "for i in range(9):\n",
        "    plt.subplot(3,3, i+1)\n",
        "    img = plt.imread(os.path.join(normal_dir, normal[i]))\n",
        "    plt.imshow(img, cmap='gray')\n",
        "    plt.axis(\"off\")\n",
        "    plt.title(\"Normal X-ray\")\n",
        "plt.tight_layout()"
      ]
    },
    {
      "cell_type": "code",
      "execution_count": null,
      "id": "c76b6947",
      "metadata": {
        "id": "c76b6947"
      },
      "outputs": [],
      "source": []
    },
    {
      "cell_type": "code",
      "execution_count": null,
      "id": "515cc57d",
      "metadata": {
        "id": "515cc57d"
      },
      "outputs": [],
      "source": [
        "listx = []\n",
        "for i in train:\n",
        "    if(i[1] == 0):\n",
        "        listx.append(\"Pneumonia\")\n",
        "    else:\n",
        "        listx.append(\"Normal\")\n",
        "sns.countplot(listx)"
      ]
    },
    {
      "cell_type": "code",
      "execution_count": null,
      "id": "4e2ea807",
      "metadata": {
        "id": "4e2ea807"
      },
      "outputs": [],
      "source": [
        "# Data Augmentation & Resizing"
      ]
    },
    {
      "cell_type": "code",
      "execution_count": null,
      "id": "9c3dc216",
      "metadata": {
        "id": "9c3dc216"
      },
      "outputs": [],
      "source": [
        "import tensorflow as tf\n",
        "from tensorflow.keras.preprocessing.image import ImageDataGenerator\n",
        "from tensorflow.keras.models import Model\n",
        "from tensorflow.keras.models import load_model\n",
        "from tensorflow.keras.layers import Input, Dense, Flatten, Conv2D,Dropout\n",
        "from tensorflow.keras.applications.vgg19 import VGG19\n",
        "from tensorflow.keras.optimizers import SGD, RMSprop, Adam\n",
        "from tensorflow.keras.callbacks import ModelCheckpoint, EarlyStopping, ReduceLROnPlateau"
      ]
    },
    {
      "cell_type": "code",
      "execution_count": null,
      "id": "a4f0c57f",
      "metadata": {
        "id": "a4f0c57f"
      },
      "outputs": [],
      "source": [
        "train_datagen = ImageDataGenerator(rescale = 1. / 255,\n",
        "                  horizontal_flip=0.4,\n",
        "                  vertical_flip=0.4,\n",
        "                  rotation_range=40,\n",
        "                  shear_range=0.2,\n",
        "                  width_shift_range=0.4,\n",
        "                  height_shift_range=0.4,\n",
        "                  fill_mode=\"nearest\")\n",
        "valid_datagen = ImageDataGenerator(rescale = 1./255)\n",
        "test_datagen = ImageDataGenerator(rescale = 1./255)"
      ]
    },
    {
      "cell_type": "code",
      "execution_count": null,
      "id": "deae8de2",
      "metadata": {
        "id": "deae8de2"
      },
      "outputs": [],
      "source": [
        "train_generator = train_datagen.flow_from_directory(\"chest_xray/chest_xray/train\",\n",
        "                                 batch_size = 32,\n",
        "                                 target_size=(128,128),\n",
        "                                 class_mode = 'categorical',\n",
        "                                 shuffle=True,\n",
        "                                 seed = 42,\n",
        "                                 color_mode = 'rgb')\n",
        "valid_generator = valid_datagen.flow_from_directory(\"chest_xray/chest_xray/val\",\n",
        "                                 batch_size = 32,\n",
        "                                 target_size=(128,128),\n",
        "                                 class_mode = 'categorical',\n",
        "                                 shuffle=True,\n",
        "                                 seed = 42,\n",
        "                                 color_mode = 'rgb')"
      ]
    },
    {
      "cell_type": "code",
      "execution_count": null,
      "id": "eb8e4bcb",
      "metadata": {
        "id": "eb8e4bcb"
      },
      "outputs": [],
      "source": [
        "class_labels = train_generator.class_indices"
      ]
    },
    {
      "cell_type": "code",
      "execution_count": null,
      "id": "9969eb4d",
      "metadata": {
        "id": "9969eb4d"
      },
      "outputs": [],
      "source": [
        "class_labels"
      ]
    },
    {
      "cell_type": "code",
      "execution_count": null,
      "id": "a8913756",
      "metadata": {
        "id": "a8913756"
      },
      "outputs": [],
      "source": [
        "class_name = {value:key for (key, value) in class_labels.items()}"
      ]
    },
    {
      "cell_type": "code",
      "execution_count": null,
      "id": "e5270bdd",
      "metadata": {
        "id": "e5270bdd"
      },
      "outputs": [],
      "source": [
        "class_name"
      ]
    },
    {
      "cell_type": "code",
      "execution_count": null,
      "id": "6785e9e2",
      "metadata": {
        "id": "6785e9e2"
      },
      "outputs": [],
      "source": [
        "# VGG19 CNN Architecture"
      ]
    },
    {
      "cell_type": "code",
      "execution_count": null,
      "id": "f592fa9b",
      "metadata": {
        "id": "f592fa9b"
      },
      "outputs": [],
      "source": [
        "base_model = VGG19(input_shape = (128,128,3),\n",
        "                     include_top = False,\n",
        "                     weights = 'imagenet')\n",
        "for layer in base_model.layers:\n",
        "    layer.trainable = False\n",
        "\n",
        "x = base_model.output\n",
        "flat = Flatten()(x)\n",
        "\n",
        "\n",
        "class_1 = Dense(4608, activation = 'relu')(flat)\n",
        "dropout = Dropout(0.2)(class_1)\n",
        "class_2 = Dense(1152, activation = 'relu')(dropout)\n",
        "output = Dense(2, activation = 'softmax')(class_2)\n",
        "\n",
        "model_01 = Model(base_model.inputs, output)\n",
        "model_01.summary()"
      ]
    },
    {
      "cell_type": "code",
      "execution_count": null,
      "id": "42454215",
      "metadata": {
        "id": "42454215"
      },
      "outputs": [],
      "source": [
        "filepath = \"model.h5\"\n",
        "es = EarlyStopping(monitor=\"val_loss\", verbose=1, mode=\"min\", patience=4)\n",
        "cp=ModelCheckpoint(filepath, monitor=\"val_loss\", save_best_only=True, save_weights_only=False,mode=\"auto\", save_freq=\"epoch\")\n",
        "lrr = ReduceLROnPlateau(monitor=\"val_accuracy\", patience=3, verbose=1, factor=0.5, min_lr=0.0001)\n",
        "\n",
        "sgd = SGD(learning_rate=0.0001, decay = 1e-6, momentum=0, nesterov = True)\n",
        "\n",
        "model_01.compile(loss=\"categorical_crossentropy\", optimizer=sgd, metrics=['accuracy'])"
      ]
    },
    {
      "cell_type": "code",
      "execution_count": null,
      "id": "61316bec",
      "metadata": {
        "id": "61316bec"
      },
      "outputs": [],
      "source": [
        "history_01 = model_01.fit(train_generator,\n",
        "            steps_per_epoch=50,\n",
        "            epochs=1,\n",
        "            callbacks=[es, cp, lrr],\n",
        "            validation_data=valid_generator)"
      ]
    },
    {
      "cell_type": "code",
      "execution_count": null,
      "id": "4ecfe110",
      "metadata": {
        "id": "4ecfe110"
      },
      "outputs": [],
      "source": [
        "if not os.path.isdir('model_weights/'):\n",
        "    os.mkdir(\"model_weights/\")\n",
        "model_01.save(filepath = \"model_weights/vgg19_model_01.h5\", overwrite=True)"
      ]
    },
    {
      "cell_type": "code",
      "execution_count": null,
      "id": "7361e011",
      "metadata": {
        "id": "7361e011"
      },
      "outputs": [],
      "source": [
        "test_generator = test_datagen.flow_from_directory(\"chest_xray/chest_xray/test\",\n",
        "                                 batch_size = 32,\n",
        "                                 target_size=(128,128),\n",
        "                                 class_mode = 'categorical',\n",
        "                                 shuffle=True,\n",
        "                                 seed = 42,\n",
        "                                 color_mode = 'rgb')"
      ]
    },
    {
      "cell_type": "code",
      "execution_count": null,
      "id": "79e696b7",
      "metadata": {
        "id": "79e696b7"
      },
      "outputs": [],
      "source": [
        "model_01.load_weights(\"model_weights/vgg19_model_01.h5\")\n",
        "\n",
        "vgg_val_eval_01 = model_01.evaluate(valid_generator)\n",
        "vgg_test_eval_01 = model_01.evaluate(test_generator)"
      ]
    },
    {
      "cell_type": "code",
      "execution_count": null,
      "id": "ba79feb9",
      "metadata": {
        "id": "ba79feb9"
      },
      "outputs": [],
      "source": [
        "print(f\"Validation Loss: {vgg_val_eval_01[0]}\")\n",
        "print(f\"Validation Accuarcy: {vgg_val_eval_01[1]}\")\n",
        "print(f\"Test Loss: {vgg_test_eval_01[0]}\")\n",
        "print(f\"Test Accuarcy: {vgg_test_eval_01[1]}\")"
      ]
    },
    {
      "cell_type": "code",
      "execution_count": null,
      "id": "a1d3cc9e",
      "metadata": {
        "id": "a1d3cc9e"
      },
      "outputs": [],
      "source": [
        "# Increamental unfreezing & fine tuning"
      ]
    },
    {
      "cell_type": "code",
      "execution_count": null,
      "id": "ecb7fb11",
      "metadata": {
        "id": "ecb7fb11"
      },
      "outputs": [],
      "source": [
        "base_model = VGG19(include_top=False, input_shape=(128,128,3))\n",
        "base_model_layer_names = [layer.name for layer in base_model.layers]\n",
        "\n",
        "x = base_model.output\n",
        "flat = Flatten()(x)\n",
        "\n",
        "\n",
        "class_1 = Dense(4608, activation = 'relu')(flat)\n",
        "dropout = Dropout(0.2)(class_1)\n",
        "class_2 = Dense(1152, activation = 'relu')(dropout)\n",
        "output = Dense(2, activation = 'softmax')(class_2)\n",
        "\n",
        "model_02 = Model(base_model.inputs, output)\n",
        "model_02.load_weights(\"model_weights/vgg19_model_01.h5\")\n",
        "\n",
        "set_trainable = False\n",
        "for layer in base_model.layers:\n",
        "    if layer.name in [ 'block5_conv3','block5_conv4']:\n",
        "        set_trainable=True\n",
        "    if set_trainable:\n",
        "        set_trainable=True\n",
        "    else:\n",
        "        set_trainable=False\n",
        "print(model_02.summary())"
      ]
    },
    {
      "cell_type": "code",
      "execution_count": null,
      "id": "a0f57b8f",
      "metadata": {
        "id": "a0f57b8f"
      },
      "outputs": [],
      "source": [
        "base_model_layer_names"
      ]
    },
    {
      "cell_type": "code",
      "execution_count": null,
      "id": "6ae0e505",
      "metadata": {
        "id": "6ae0e505"
      },
      "outputs": [],
      "source": [
        "sgd = SGD(learning_rate=0.0001, decay = 1e-6, momentum=0, nesterov = True)\n",
        "\n",
        "model_02.compile(loss=\"categorical_crossentropy\", optimizer=sgd, metrics=['accuracy'])"
      ]
    },
    {
      "cell_type": "code",
      "execution_count": null,
      "id": "acdc2ec8",
      "metadata": {
        "id": "acdc2ec8"
      },
      "outputs": [],
      "source": [
        "history_02 = model_02.fit(train_generator,\n",
        "            steps_per_epoch=10,\n",
        "            epochs=1,\n",
        "            callbacks=[es, cp, lrr],\n",
        "            validation_data=valid_generator)"
      ]
    },
    {
      "cell_type": "code",
      "execution_count": null,
      "id": "f56bfa9d",
      "metadata": {
        "id": "f56bfa9d"
      },
      "outputs": [],
      "source": [
        "if not os.path.isdir('model_weights/'):\n",
        "    os.mkdir(\"model_weights/\")\n",
        "model_02.save(filepath = \"model_weights/vgg19_model_02.h5\", overwrite=True)"
      ]
    },
    {
      "cell_type": "code",
      "execution_count": null,
      "id": "96b88002",
      "metadata": {
        "id": "96b88002"
      },
      "outputs": [],
      "source": [
        "model_02.load_weights(\"model_weights/vgg19_model_02.h5\")\n",
        "\n",
        "vgg_val_eval_02 = model_02.evaluate(valid_generator)\n",
        "vgg_test_eval_02 = model_02.evaluate(test_generator)\n",
        "\n",
        "print(f\"Validation Loss: {vgg_val_eval_02[0]}\")\n",
        "print(f\"Validation Accuarcy: {vgg_val_eval_02[1]}\")\n",
        "print(f\"Test Loss: {vgg_test_eval_02[0]}\")\n",
        "print(f\"Test Accuarcy: {vgg_test_eval_02[1]}\")"
      ]
    },
    {
      "cell_type": "code",
      "execution_count": null,
      "id": "a8abd7ee",
      "metadata": {
        "id": "a8abd7ee"
      },
      "outputs": [],
      "source": [
        "# Unfreezing and fine tuning the entire network"
      ]
    },
    {
      "cell_type": "code",
      "execution_count": null,
      "id": "2e2ed78d",
      "metadata": {
        "id": "2e2ed78d"
      },
      "outputs": [],
      "source": [
        "base_model = VGG19(include_top=False, input_shape=(128,128,3))\n",
        "\n",
        "x = base_model.output\n",
        "flat = Flatten()(x)\n",
        "\n",
        "class_1 = Dense(4608, activation = 'relu')(flat)\n",
        "dropout = Dropout(0.2)(class_1)\n",
        "class_2 = Dense(1152, activation = 'relu')(dropout)\n",
        "output = Dense(2, activation = 'softmax')(class_2)\n",
        "\n",
        "model_03 = Model(base_model.inputs, output)\n",
        "model_03.load_weights(\"model_weights/vgg19_model_01.h5\")\n",
        "\n",
        "print(model_03.summary())"
      ]
    },
    {
      "cell_type": "code",
      "execution_count": null,
      "id": "c7b97922",
      "metadata": {
        "id": "c7b97922"
      },
      "outputs": [],
      "source": [
        "sgd = SGD(learning_rate=0.0001, decay = 1e-6, momentum=0, nesterov = True)\n",
        "\n",
        "model_03.compile(loss=\"categorical_crossentropy\", optimizer=sgd, metrics=['accuracy'])"
      ]
    },
    {
      "cell_type": "code",
      "execution_count": null,
      "id": "7f74bbd3",
      "metadata": {
        "id": "7f74bbd3"
      },
      "outputs": [],
      "source": [
        "history_03 = model_02.fit(train_generator,\n",
        "            steps_per_epoch=100,\n",
        "            epochs=1,\n",
        "            callbacks=[es, cp, lrr],\n",
        "            validation_data=valid_generator)"
      ]
    },
    {
      "cell_type": "code",
      "execution_count": null,
      "id": "b747130f",
      "metadata": {
        "id": "b747130f"
      },
      "outputs": [],
      "source": [
        "if not os.path.isdir('model_weights/'):\n",
        "    os.mkdir(\"model_weights/\")\n",
        "model_02.save(filepath = \"model_weights/vgg_unfrozen.h5\", overwrite=True)"
      ]
    }
  ],
  "metadata": {
    "colab": {
      "provenance": [],
      "include_colab_link": true
    },
    "kernelspec": {
      "display_name": "Python 3",
      "language": "python",
      "name": "python3"
    },
    "language_info": {
      "codemirror_mode": {
        "name": "ipython",
        "version": 3
      },
      "file_extension": ".py",
      "mimetype": "text/x-python",
      "name": "python",
      "nbconvert_exporter": "python",
      "pygments_lexer": "ipython3",
      "version": "3.8.5"
    }
  },
  "nbformat": 4,
  "nbformat_minor": 5
}